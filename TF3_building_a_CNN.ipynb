{
 "cells": [
  {
   "cell_type": "code",
   "execution_count": 1,
   "metadata": {},
   "outputs": [],
   "source": [
    "import os \n",
    "os.environ['TF_CPP_MIN_LOG_LEVEL']='2'"
   ]
  },
  {
   "cell_type": "code",
   "execution_count": 5,
   "metadata": {},
   "outputs": [],
   "source": [
    "#importing the necessary libs\n",
    "import tensorflow as tf\n",
    "from tensorflow import keras\n",
    "from tensorflow.keras import layers\n",
    "from tensorflow.keras.datasets import cifar10"
   ]
  },
  {
   "cell_type": "code",
   "execution_count": 7,
   "metadata": {},
   "outputs": [
    {
     "name": "stdout",
     "output_type": "stream",
     "text": [
      "(50000, 32, 32, 3) (10000, 32, 32, 3)\n"
     ]
    }
   ],
   "source": [
    "#loading the data\n",
    "(x_train,y_train),(x_test,y_test)=cifar10.load_data()\n",
    "x_train=x_train.astype(\"float32\")/255.0\n",
    "x_test=x_test.astype(\"float32\")/255.0\n",
    "print(x_train.shape, x_test.shape)"
   ]
  },
  {
   "cell_type": "code",
   "execution_count": 18,
   "metadata": {},
   "outputs": [],
   "source": [
    "model = keras.Sequential(\n",
    "    [\n",
    "        keras.Input(shape=(32, 32, 3)),\n",
    "        layers.Conv2D(32, 3, padding=\"valid\", activation=\"relu\"),\n",
    "        layers.MaxPooling2D(),\n",
    "        layers.Conv2D(64, 3, activation=\"relu\"),\n",
    "        layers.MaxPooling2D(),\n",
    "        layers.Conv2D(128, 3, activation=\"relu\"),\n",
    "        layers.Flatten(),\n",
    "        layers.Dense(64, activation=\"relu\"),\n",
    "        layers.Dense(10),\n",
    "    ]\n",
    ")"
   ]
  },
  {
   "cell_type": "code",
   "execution_count": 19,
   "metadata": {},
   "outputs": [],
   "source": [
    "model.compile(\n",
    "    loss=keras.losses.SparseCategoricalCrossentropy(from_logits=True),\n",
    "    optimizer=keras.optimizers.Adam(lr=3e-4),\n",
    "    metrics=[\"accuracy\"],\n",
    ")"
   ]
  },
  {
   "cell_type": "code",
   "execution_count": 21,
   "metadata": {},
   "outputs": [
    {
     "name": "stdout",
     "output_type": "stream",
     "text": [
      "Epoch 1/10\n",
      "782/782 - 8s - loss: 0.7605 - accuracy: 0.7370\n",
      "Epoch 2/10\n",
      "782/782 - 7s - loss: 0.7294 - accuracy: 0.7478\n",
      "Epoch 3/10\n",
      "782/782 - 8s - loss: 0.6945 - accuracy: 0.7616\n",
      "Epoch 4/10\n",
      "782/782 - 8s - loss: 0.6630 - accuracy: 0.7706\n",
      "Epoch 5/10\n",
      "782/782 - 8s - loss: 0.6342 - accuracy: 0.7821\n",
      "Epoch 6/10\n",
      "782/782 - 9s - loss: 0.6111 - accuracy: 0.7919\n",
      "Epoch 7/10\n",
      "782/782 - 10s - loss: 0.5841 - accuracy: 0.7988\n",
      "Epoch 8/10\n",
      "782/782 - 10s - loss: 0.5572 - accuracy: 0.8102\n",
      "Epoch 9/10\n",
      "782/782 - 10s - loss: 0.5315 - accuracy: 0.8193\n",
      "Epoch 10/10\n",
      "782/782 - 8s - loss: 0.5068 - accuracy: 0.8255\n",
      "157/157 - 1s - loss: 0.8329 - accuracy: 0.7235\n"
     ]
    },
    {
     "data": {
      "text/plain": [
       "[0.8328710794448853, 0.7235000133514404]"
      ]
     },
     "execution_count": 21,
     "metadata": {},
     "output_type": "execute_result"
    }
   ],
   "source": [
    "model.fit(x_train, y_train, batch_size=64, epochs=10, verbose=2)\n",
    "model.evaluate(x_test, y_test, batch_size=64, verbose=2)"
   ]
  },
  {
   "cell_type": "code",
   "execution_count": 24,
   "metadata": {},
   "outputs": [],
   "source": [
    "def my_model():\n",
    "    inputs = keras.Input(shape=(32, 32, 3))\n",
    "    x = layers.Conv2D(32, 3)(inputs)\n",
    "    x = layers.BatchNormalization()(x)\n",
    "    x = keras.activations.relu(x)\n",
    "    x = layers.MaxPooling2D()(x)\n",
    "    x = layers.Conv2D(64, 3)(x)\n",
    "    x = layers.BatchNormalization()(x)\n",
    "    x = keras.activations.relu(x)\n",
    "    x = layers.MaxPooling2D()(x)\n",
    "    x = layers.Conv2D(128, 3)(x)\n",
    "    x = layers.BatchNormalization()(x)\n",
    "    x = keras.activations.relu(x)\n",
    "    x = layers.Flatten()(x)\n",
    "    x = layers.Dense(64, activation=\"relu\")(x)\n",
    "    outputs = layers.Dense(10)(x)\n",
    "    model = keras.Model(inputs=inputs, outputs=outputs)\n",
    "    return model"
   ]
  },
  {
   "cell_type": "code",
   "execution_count": 25,
   "metadata": {},
   "outputs": [],
   "source": [
    "model=my_model()"
   ]
  },
  {
   "cell_type": "code",
   "execution_count": 27,
   "metadata": {},
   "outputs": [],
   "source": [
    "model.compile(\n",
    "    loss=keras.losses.SparseCategoricalCrossentropy(from_logits=True),\n",
    "    optimizer=keras.optimizers.Adam(lr=3e-4),\n",
    "    metrics=[\"accuracy\"],\n",
    ")"
   ]
  },
  {
   "cell_type": "code",
   "execution_count": 28,
   "metadata": {},
   "outputs": [
    {
     "name": "stdout",
     "output_type": "stream",
     "text": [
      "Epoch 1/10\n",
      "782/782 - 20s - loss: 1.3681 - accuracy: 0.5132\n",
      "Epoch 2/10\n",
      "782/782 - 16s - loss: 0.9906 - accuracy: 0.6529\n",
      "Epoch 3/10\n",
      "782/782 - 14s - loss: 0.8307 - accuracy: 0.7105\n",
      "Epoch 4/10\n",
      "782/782 - 18s - loss: 0.7268 - accuracy: 0.7478\n",
      "Epoch 5/10\n",
      "782/782 - 15s - loss: 0.6447 - accuracy: 0.7768\n",
      "Epoch 6/10\n",
      "782/782 - 11s - loss: 0.5734 - accuracy: 0.8021\n",
      "Epoch 7/10\n",
      "782/782 - 12s - loss: 0.5147 - accuracy: 0.8228\n",
      "Epoch 8/10\n",
      "782/782 - 10s - loss: 0.4563 - accuracy: 0.8428\n",
      "Epoch 9/10\n",
      "782/782 - 10s - loss: 0.4083 - accuracy: 0.8595\n",
      "Epoch 10/10\n",
      "782/782 - 11s - loss: 0.3595 - accuracy: 0.8779\n",
      "157/157 - 3s - loss: 0.8848 - accuracy: 0.7275\n"
     ]
    },
    {
     "data": {
      "text/plain": [
       "[0.8848098516464233, 0.7275000214576721]"
      ]
     },
     "execution_count": 28,
     "metadata": {},
     "output_type": "execute_result"
    }
   ],
   "source": [
    "model.fit(x_train, y_train, batch_size=64, epochs=10, verbose=2)\n",
    "model.evaluate(x_test, y_test, batch_size=64, verbose=2)"
   ]
  },
  {
   "cell_type": "code",
   "execution_count": null,
   "metadata": {},
   "outputs": [],
   "source": []
  }
 ],
 "metadata": {
  "kernelspec": {
   "display_name": "Python 3",
   "language": "python",
   "name": "python3"
  },
  "language_info": {
   "codemirror_mode": {
    "name": "ipython",
    "version": 3
   },
   "file_extension": ".py",
   "mimetype": "text/x-python",
   "name": "python",
   "nbconvert_exporter": "python",
   "pygments_lexer": "ipython3",
   "version": "3.7.9"
  }
 },
 "nbformat": 4,
 "nbformat_minor": 4
}
