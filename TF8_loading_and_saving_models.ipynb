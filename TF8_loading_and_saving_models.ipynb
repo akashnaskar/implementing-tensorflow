{
 "cells": [
  {
   "cell_type": "code",
   "execution_count": 1,
   "metadata": {},
   "outputs": [],
   "source": [
    "import os\n",
    "\n",
    "os.environ[\"TF_CPP_MIN_LOG_LEVEL\"] = \"2\"\n",
    "import tensorflow as tf\n",
    "from tensorflow import keras\n",
    "from tensorflow.keras import layers\n",
    "from tensorflow.keras.datasets import mnist\n"
   ]
  },
  {
   "cell_type": "code",
   "execution_count": 2,
   "metadata": {},
   "outputs": [],
   "source": [
    "(x_train, y_train), (x_test, y_test) = mnist.load_data()\n",
    "x_train = x_train.reshape(-1, 28 * 28).astype(\"float32\") / 255.0\n",
    "x_test = x_test.reshape(-1, 28 * 28).astype(\"float32\") / 255.0"
   ]
  },
  {
   "cell_type": "markdown",
   "metadata": {},
   "source": [
    "# Here we'll see:\n",
    "\n",
    " 1. How to save and load model weights\n",
    " 2. Save and loading entire model (Serializing model)\n",
    "   - Saves weights\n",
    "   - Model architecture\n",
    "   - Training Configuration (model.compile())\n",
    "   - Optimizer and states\n"
   ]
  },
  {
   "cell_type": "code",
   "execution_count": 10,
   "metadata": {},
   "outputs": [],
   "source": [
    "model1 = keras.Sequential([layers.Dense(64, activation=\"relu\"), layers.Dense(10)])\n",
    "inputs = keras.Input(784)\n",
    "x = layers.Dense(64, activation=\"relu\")(inputs)\n",
    "outputs = layers.Dense(10)(x)\n",
    "model2 = keras.Model(inputs=inputs, outputs=outputs)"
   ]
  },
  {
   "cell_type": "code",
   "execution_count": 13,
   "metadata": {},
   "outputs": [],
   "source": [
    "##this is step 2\n",
    "model=model1\n",
    "#we loading the saved weights\n",
    "model.load_weights('saved_model/')\n",
    "model.compile(\n",
    "    loss=keras.losses.SparseCategoricalCrossentropy(from_logits=True),\n",
    "    optimizer=keras.optimizers.Adam(),\n",
    "    metrics=[\"accuracy\"],\n",
    ")\n"
   ]
  },
  {
   "cell_type": "code",
   "execution_count": 14,
   "metadata": {},
   "outputs": [
    {
     "name": "stdout",
     "output_type": "stream",
     "text": [
      "Epoch 1/2\n",
      "1875/1875 - 4s - loss: 0.1073 - accuracy: 0.9679\n",
      "Epoch 2/2\n",
      "1875/1875 - 3s - loss: 0.0829 - accuracy: 0.9754\n",
      "313/313 - 1s - loss: 0.0892 - accuracy: 0.9718\n"
     ]
    }
   ],
   "source": [
    "#\n",
    "\n",
    "model.fit(x_train, y_train, batch_size=32, epochs=2, verbose=2)\n",
    "model.evaluate(x_test, y_test, batch_size=32, verbose=2)\n",
    "# model.save_weights('checkpoint_folder/')\n",
    "model.save_weights('saved_model/')"
   ]
  },
  {
   "cell_type": "markdown",
   "metadata": {},
   "source": [
    "### 2.Saving entire model\n"
   ]
  },
  {
   "cell_type": "code",
   "execution_count": 15,
   "metadata": {},
   "outputs": [],
   "source": [
    "model1 = keras.Sequential([layers.Dense(64, activation=\"relu\"), layers.Dense(10)])\n",
    "inputs = keras.Input(784)\n",
    "x = layers.Dense(64, activation=\"relu\")(inputs)\n",
    "outputs = layers.Dense(10)(x)\n",
    "model2 = keras.Model(inputs=inputs, outputs=outputs)"
   ]
  },
  {
   "cell_type": "code",
   "execution_count": 16,
   "metadata": {},
   "outputs": [],
   "source": [
    "##this is step 2\n",
    "model=model1\n",
    "#we loading the saved weights\n",
    "model.load_weights('saved_model/')\n",
    "model.compile(\n",
    "    loss=keras.losses.SparseCategoricalCrossentropy(from_logits=True),\n",
    "    optimizer=keras.optimizers.Adam(),\n",
    "    metrics=[\"accuracy\"],\n",
    ")\n"
   ]
  },
  {
   "cell_type": "code",
   "execution_count": 17,
   "metadata": {},
   "outputs": [
    {
     "name": "stdout",
     "output_type": "stream",
     "text": [
      "Epoch 1/2\n",
      "1875/1875 - 4s - loss: 0.0681 - accuracy: 0.9791\n",
      "Epoch 2/2\n",
      "1875/1875 - 3s - loss: 0.0560 - accuracy: 0.9830\n",
      "313/313 - 1s - loss: 0.0856 - accuracy: 0.9745\n",
      "INFO:tensorflow:Assets written to: complete_saved_model/assets\n"
     ]
    }
   ],
   "source": [
    "#to save complete model\n",
    "\n",
    "model.fit(x_train, y_train, batch_size=32, epochs=2, verbose=2)\n",
    "model.evaluate(x_test, y_test, batch_size=32, verbose=2)\n",
    "\n",
    "model.save('complete_saved_model/')"
   ]
  },
  {
   "cell_type": "code",
   "execution_count": null,
   "metadata": {},
   "outputs": [],
   "source": []
  }
 ],
 "metadata": {
  "kernelspec": {
   "display_name": "Python 3",
   "language": "python",
   "name": "python3"
  },
  "language_info": {
   "codemirror_mode": {
    "name": "ipython",
    "version": 3
   },
   "file_extension": ".py",
   "mimetype": "text/x-python",
   "name": "python",
   "nbconvert_exporter": "python",
   "pygments_lexer": "ipython3",
   "version": "3.7.9"
  }
 },
 "nbformat": 4,
 "nbformat_minor": 4
}
